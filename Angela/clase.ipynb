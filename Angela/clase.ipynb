{
 "cells": [
  {
   "cell_type": "code",
   "execution_count": 3,
   "source": [
    "a = 4.3\r\n",
    "b =  \"3\"\r\n",
    "b = int(b)\r\n",
    "c = a+b\r\n",
    "c = str(c)\r\n",
    "print(b,a)\r\n"
   ],
   "outputs": [
    {
     "output_type": "stream",
     "name": "stdout",
     "text": [
      "7.3\n"
     ]
    }
   ],
   "metadata": {}
  },
  {
   "cell_type": "code",
   "execution_count": 13,
   "source": [
    "a = (2,4,5,\"hola\") #tupla \r\n",
    "b = [2,4,5,\"mundo\"] # lista se modifica\r\n",
    "c = b[:1] #forma de operar elementos lista\r\n",
    "print(c)"
   ],
   "outputs": [
    {
     "output_type": "stream",
     "name": "stdout",
     "text": [
      "[2]\n"
     ]
    }
   ],
   "metadata": {}
  },
  {
   "cell_type": "code",
   "execution_count": 32,
   "source": [
    "b = [2,4,5,\"mundo\"]\r\n",
    "b.append(3)\r\n",
    "b.append(3)# sirve para agregar un elmento al final de la lista\r\n",
    "print(b)\r\n",
    "b.pop(3)#sirve para eliminar \r\n",
    "print(b)\r\n",
    "b.sort()\r\n",
    "print(b) #type sirve para preguntar el tipo de elemento "
   ],
   "outputs": [
    {
     "output_type": "stream",
     "name": "stdout",
     "text": [
      "[2, 4, 5, 'mundo', 3, 3]\n",
      "[2, 4, 5, 3, 3]\n",
      "[2, 3, 3, 4, 5]\n"
     ]
    }
   ],
   "metadata": {}
  },
  {
   "cell_type": "markdown",
   "source": [
    "diccionarios"
   ],
   "metadata": {}
  },
  {
   "cell_type": "code",
   "execution_count": 44,
   "source": [
    "a = {\"Nombre\":[\"Angela\",\"Luis\"],\"apellido\":[\"Martinez\",\"Duque\"],\"edad\":[25,21]}\r\n",
    "print(a[\"Nombre\"])\r\n",
    "b = [[\"nombre\",\"angela\"],[\"apellido\",\"martinez\"],[\"edad\",25]]\r\n",
    "c = dict(b)\r\n",
    "print(c[\"nombre\"])\r\n"
   ],
   "outputs": [
    {
     "output_type": "stream",
     "name": "stdout",
     "text": [
      "['Angela', 'Luis']\n",
      "angela\n"
     ]
    }
   ],
   "metadata": {}
  },
  {
   "cell_type": "code",
   "execution_count": 48,
   "source": [
    "a = [[1,2,3],[2,3,4],[4,5,6]] # \"matriz\"\r\n",
    "print(a)"
   ],
   "outputs": [
    {
     "output_type": "stream",
     "name": "stdout",
     "text": [
      "[[1, 2, 3], [2, 3, 4], [4, 5, 6]]\n"
     ]
    }
   ],
   "metadata": {}
  },
  {
   "cell_type": "markdown",
   "source": [
    "Definir funciones"
   ],
   "metadata": {}
  },
  {
   "cell_type": "code",
   "execution_count": 53,
   "source": [
    "def hola(x):\r\n",
    "    print(\"hola mundo , por vez:\",x*2)\r\n",
    "hola(3)"
   ],
   "outputs": [
    {
     "output_type": "stream",
     "name": "stdout",
     "text": [
      "hola mundo , por vez: 6\n"
     ]
    }
   ],
   "metadata": {}
  },
  {
   "cell_type": "code",
   "execution_count": 61,
   "source": [
    "#IMC h/m^2\r\n",
    "def imc(h,m):\r\n",
    "    i = m/h**2\r\n",
    "    print(i)\r\n",
    "imc(1.60,60)\r\n",
    "\r\n"
   ],
   "outputs": [
    {
     "output_type": "stream",
     "name": "stdout",
     "text": [
      "23.437499999999996\n"
     ]
    }
   ],
   "metadata": {}
  }
 ],
 "metadata": {
  "orig_nbformat": 4,
  "language_info": {
   "name": "python",
   "version": "3.9.5",
   "mimetype": "text/x-python",
   "codemirror_mode": {
    "name": "ipython",
    "version": 3
   },
   "pygments_lexer": "ipython3",
   "nbconvert_exporter": "python",
   "file_extension": ".py"
  },
  "kernelspec": {
   "name": "python3",
   "display_name": "Python 3.9.5 64-bit"
  },
  "interpreter": {
   "hash": "b57cf49ba40cffb9f573ffff2e7abee1c00c6dadfcb1e268543de4b96bfe2901"
  }
 },
 "nbformat": 4,
 "nbformat_minor": 2
}