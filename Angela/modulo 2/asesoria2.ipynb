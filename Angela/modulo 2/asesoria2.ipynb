{
 "cells": [
  {
   "cell_type": "code",
   "execution_count": 13,
   "source": [
    "import mifuncion as mf\r\n",
    "mf.mifuncion(1,1,1)"
   ],
   "outputs": [
    {
     "output_type": "stream",
     "name": "stdout",
     "text": [
      "3\n"
     ]
    },
    {
     "output_type": "error",
     "ename": "AttributeError",
     "evalue": "module 'mifuncion' has no attribute 'mifuncion2'",
     "traceback": [
      "\u001b[1;31m---------------------------------------------------------------------------\u001b[0m",
      "\u001b[1;31mAttributeError\u001b[0m                            Traceback (most recent call last)",
      "\u001b[1;32m<ipython-input-13-37a748dcc35d>\u001b[0m in \u001b[0;36m<module>\u001b[1;34m\u001b[0m\n\u001b[0;32m      1\u001b[0m \u001b[1;32mimport\u001b[0m \u001b[0mmifuncion\u001b[0m \u001b[1;32mas\u001b[0m \u001b[0mmf\u001b[0m\u001b[1;33m\u001b[0m\u001b[1;33m\u001b[0m\u001b[0m\n\u001b[0;32m      2\u001b[0m \u001b[0mmf\u001b[0m\u001b[1;33m.\u001b[0m\u001b[0mmifuncion\u001b[0m\u001b[1;33m(\u001b[0m\u001b[1;36m1\u001b[0m\u001b[1;33m,\u001b[0m\u001b[1;36m1\u001b[0m\u001b[1;33m,\u001b[0m\u001b[1;36m1\u001b[0m\u001b[1;33m)\u001b[0m\u001b[1;33m\u001b[0m\u001b[1;33m\u001b[0m\u001b[0m\n\u001b[1;32m----> 3\u001b[1;33m \u001b[0mmf\u001b[0m\u001b[1;33m.\u001b[0m\u001b[0mmifuncion2\u001b[0m\u001b[1;33m(\u001b[0m\u001b[1;36m1\u001b[0m\u001b[1;33m,\u001b[0m\u001b[1;36m1\u001b[0m\u001b[1;33m,\u001b[0m\u001b[1;36m1\u001b[0m\u001b[1;33m)\u001b[0m\u001b[1;33m\u001b[0m\u001b[1;33m\u001b[0m\u001b[0m\n\u001b[0m",
      "\u001b[1;31mAttributeError\u001b[0m: module 'mifuncion' has no attribute 'mifuncion2'"
     ]
    }
   ],
   "metadata": {}
  },
  {
   "cell_type": "code",
   "execution_count": 12,
   "source": [
    "import math\r\n",
    "g=math.factorial(3)\r\n",
    "print(f\"este es el factorial:{g} esto es mas \")"
   ],
   "outputs": [
    {
     "output_type": "stream",
     "name": "stdout",
     "text": [
      "este es el factorial:6 esto es mas \n"
     ]
    }
   ],
   "metadata": {}
  },
  {
   "cell_type": "code",
   "execution_count": 59,
   "source": [
    "import numpy as np\r\n",
    "a = ([1,2,3],[1,2,3],[4,5,6])\r\n",
    "b=np.array(a)\r\n",
    "a1 =[1,2,3]\r\n",
    "a2 = [1,2,3] #estas listas no se pueden sumar se deben comvertir a array\r\n",
    "c = a1+a2\r\n",
    "# print(b+b)\r\n",
    "print(b.shape)#dimension\r\n",
    "print(b.sum())\r\n",
    "print(b.reshape([1,9]))\r\n",
    "print(b.max())\r\n",
    "a = np.random.randint(20,size=(3,3))\r\n",
    "print(a)"
   ],
   "outputs": [
    {
     "output_type": "stream",
     "name": "stdout",
     "text": [
      "(3, 3)\n",
      "27\n",
      "[[1 2 3 1 2 3 4 5 6]]\n",
      "6\n",
      "[[ 9  4  9]\n",
      " [14  5  1]\n",
      " [ 8 12  2]]\n"
     ]
    }
   ],
   "metadata": {}
  },
  {
   "cell_type": "code",
   "execution_count": null,
   "source": [],
   "outputs": [],
   "metadata": {}
  },
  {
   "cell_type": "code",
   "execution_count": 70,
   "source": [
    "import numpy as np\r\n",
    "a = ((3,5,7), (2,4,6), (1,2,3))\r\n",
    "print(a)\r\n",
    "b= np.array(a)\r\n",
    "# print(b)\r\n",
    "# print(b.mean())\r\n",
    "# print(b.max())\r\n",
    "# print(b.shape)\r\n",
    "# print(b.cumsum())\r\n",
    "# print(b.reshape([9,1]))\r\n",
    "\r\n",
    "np.empty((3,2))\r\n",
    "a = np.empty((3,2))\r\n",
    "print(a)\r\n",
    "\r\n",
    "np.random.randint(10,size=(2))\r\n",
    "print (np.random.randint(10,size=(2,8)))\r\n"
   ],
   "outputs": [
    {
     "output_type": "stream",
     "name": "stdout",
     "text": [
      "((3, 5, 7), (2, 4, 6), (1, 2, 3))\n",
      "[[1.16001573 0.01852811]\n",
      " [0.02999769 0.84925081]\n",
      " [0.61247188 0.74604389]]\n",
      "[[7 5 5 3 3 8 9 6]\n",
      " [8 9 4 7 9 5 3 9]]\n"
     ]
    }
   ],
   "metadata": {}
  },
  {
   "cell_type": "code",
   "execution_count": 76,
   "source": [
    "import pandas as pd\r\n",
    "path = \"boston_house_prices.csv\"\r\n",
    "raw_data = pd.read_csv(path,header = 1)\r\n",
    "print(raw_data.columns)\r\n",
    "print(raw_data['NOX'])"
   ],
   "outputs": [
    {
     "output_type": "stream",
     "name": "stdout",
     "text": [
      "Index(['CRIM', 'ZN', 'INDUS', 'CHAS', 'NOX', 'RM', 'AGE', 'DIS', 'RAD', 'TAX',\n",
      "       'PTRATIO', 'B', 'LSTAT', 'MEDV'],\n",
      "      dtype='object')\n",
      "0      0.538\n",
      "1      0.469\n",
      "2      0.469\n",
      "3      0.458\n",
      "4      0.458\n",
      "       ...  \n",
      "501    0.573\n",
      "502    0.573\n",
      "503    0.573\n",
      "504    0.573\n",
      "505    0.573\n",
      "Name: NOX, Length: 506, dtype: float64\n"
     ]
    }
   ],
   "metadata": {}
  },
  {
   "cell_type": "code",
   "execution_count": 89,
   "source": [
    "import pandas as np\r\n",
    "name = \"boston_house_prices.csv\"\r\n",
    "print(name)\r\n",
    "data = np.read_csv(name, header=1)\r\n",
    "print(data[[\"NOX\",\"RM\"]])\r\n"
   ],
   "outputs": [
    {
     "output_type": "stream",
     "name": "stdout",
     "text": [
      "boston_house_prices.csv\n",
      "       NOX     RM\n",
      "0    0.538  6.575\n",
      "1    0.469  6.421\n",
      "2    0.469  7.185\n",
      "3    0.458  6.998\n",
      "4    0.458  7.147\n",
      "..     ...    ...\n",
      "501  0.573  6.593\n",
      "502  0.573  6.120\n",
      "503  0.573  6.976\n",
      "504  0.573  6.794\n",
      "505  0.573  6.030\n",
      "\n",
      "[506 rows x 2 columns]\n"
     ]
    }
   ],
   "metadata": {}
  },
  {
   "cell_type": "code",
   "execution_count": 110,
   "source": [
    "from sklearn.datasets import load_boston\r\n",
    "print(load_boston().keys())\r\n",
    "datos = load_boston()['data']\r\n",
    "enca = load_boston()['feature_names']\r\n",
    "print(enca)\r\n",
    "df =pd.DataFrame(datos,columns= enca)\r\n",
    "# df\r\n"
   ],
   "outputs": [
    {
     "output_type": "stream",
     "name": "stdout",
     "text": [
      "dict_keys(['data', 'target', 'feature_names', 'DESCR', 'filename'])\n",
      "['CRIM' 'ZN' 'INDUS' 'CHAS' 'NOX' 'RM' 'AGE' 'DIS' 'RAD' 'TAX' 'PTRATIO'\n",
      " 'B' 'LSTAT']\n"
     ]
    }
   ],
   "metadata": {}
  },
  {
   "cell_type": "code",
   "execution_count": 115,
   "source": [
    "print(load_boston().keys())\r\n",
    "load_boston()[\"data\"]\r\n",
    "a = load_boston()[\"data\"]\r\n",
    "b = load_boston()[\"feature_names\"]\r\n",
    "print(b)\r\n",
    "pd.DataFrame(a, columns=[b])"
   ],
   "outputs": [
    {
     "output_type": "stream",
     "name": "stdout",
     "text": [
      "dict_keys(['data', 'target', 'feature_names', 'DESCR', 'filename'])\n",
      "['CRIM' 'ZN' 'INDUS' 'CHAS' 'NOX' 'RM' 'AGE' 'DIS' 'RAD' 'TAX' 'PTRATIO'\n",
      " 'B' 'LSTAT']\n"
     ]
    }
   ],
   "metadata": {}
  }
 ],
 "metadata": {
  "orig_nbformat": 4,
  "language_info": {
   "name": "python",
   "version": "3.9.5",
   "mimetype": "text/x-python",
   "codemirror_mode": {
    "name": "ipython",
    "version": 3
   },
   "pygments_lexer": "ipython3",
   "nbconvert_exporter": "python",
   "file_extension": ".py"
  },
  "kernelspec": {
   "name": "python3",
   "display_name": "Python 3.9.5 64-bit"
  },
  "interpreter": {
   "hash": "b57cf49ba40cffb9f573ffff2e7abee1c00c6dadfcb1e268543de4b96bfe2901"
  }
 },
 "nbformat": 4,
 "nbformat_minor": 2
}