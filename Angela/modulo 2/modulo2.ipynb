{
    "cells": [
        {
            "cell_type": "code",
            "execution_count": 3,
            "source": [
                "import math\r\n",
                "a=math.factorial(10)\r\n",
                "\r\n",
                "x =math.tanh(3)\r\n",
                "print(f\"factorial:{x}\")"
            ],
            "outputs": [
                {
                    "output_type": "stream",
                    "name": "stdout",
                    "text": [
                        "factorial:0.9950547536867305\n"
                    ]
                }
            ],
            "metadata": {}
        },
        {
            "cell_type": "code",
            "execution_count": 12,
            "source": [
                "import mifuncion as mf\r\n",
                "mf.mifuncion(\"hola qué hay aquí?\")"
            ],
            "outputs": [
                {
                    "output_type": "stream",
                    "name": "stdout",
                    "text": [
                        "hola mundo soy una función, llamada desde otro archivo:  hola qué hay aquí?\n"
                    ]
                }
            ],
            "metadata": {}
        },
        {
            "cell_type": "markdown",
            "source": [
                "C:\\\\Users\\\\USER\\\\AppData\\\\Local\\\\Programs\\\\Python\\\\Python39\\\\lib\\\\site-packages\\\\sklearn\\\\datasets"
            ],
            "metadata": {}
        },
        {
            "cell_type": "code",
            "execution_count": 51,
            "source": [
                "import numpy as np\r\n",
                "import pandas as pd\r\n",
                "a = ([1,2,3],[1,2,3],[4,5,6]) #lista de lista puede tener cualquieir forma\r\n",
                "m =np.array(a) # array ya se habla propiamente de vectores y matrices , tiene forma definida\r\n",
                "print(m.shape)\r\n",
                "# print(m)\r\n",
                "print(m.sum())\r\n",
                "print(m[1].shape)#sigue siendo un vector\r\n",
                "#print(a.shape) #ojo ya es una tupla no se puede ver la forma \r\n",
                "z =m.reshape(1,9)\r\n",
                "print(z)"
            ],
            "outputs": [
                {
                    "output_type": "stream",
                    "name": "stdout",
                    "text": [
                        "(3, 3)\n",
                        "27\n",
                        "(3,)\n",
                        "[[1 2 3 1 2 3 4 5 6]]\n"
                    ]
                }
            ],
            "metadata": {}
        },
        {
            "cell_type": "code",
            "execution_count": 189,
            "source": [
                "import numpy as np\r\n",
                "z= np.zeros((2,4))\r\n",
                "a=np.array([1,2,4])\r\n",
                "print(a.max())\r\n",
                "print(a.min())\r\n",
                "print(a.cumsum())\r\n",
                "rnd = np.random.randint(5,size=(3,4))\r\n",
                "print( rnd)"
            ],
            "outputs": [
                {
                    "output_type": "stream",
                    "name": "stdout",
                    "text": [
                        "4\n",
                        "1\n",
                        "[1 3 7]\n",
                        "[[3 3 2 4]\n",
                        " [3 1 3 4]\n",
                        " [0 3 4 0]]\n"
                    ]
                }
            ],
            "metadata": {}
        },
        {
            "cell_type": "code",
            "execution_count": 150,
            "source": [
                "import csv\r\n",
                "with open(\"boston_house_prices.csv\",\"r\" )as archivo:\r\n",
                "    data = csv.reader(archivo)\r\n",
                "    print(data)\r\n",
                "    # for row in data: \r\n",
                "    #     print(row)"
            ],
            "outputs": [
                {
                    "output_type": "stream",
                    "name": "stdout",
                    "text": [
                        "<_csv.reader object at 0x0000012B63F56940>\n"
                    ]
                },
                {
                    "output_type": "error",
                    "ename": "ValueError",
                    "evalue": "I/O operation on closed file.",
                    "traceback": [
                        "\u001b[1;31m---------------------------------------------------------------------------\u001b[0m",
                        "\u001b[1;31mValueError\u001b[0m                                Traceback (most recent call last)",
                        "\u001b[1;32m<ipython-input-150-e5a5efdb8cb3>\u001b[0m in \u001b[0;36m<module>\u001b[1;34m\u001b[0m\n\u001b[0;32m      3\u001b[0m     \u001b[0mdata\u001b[0m \u001b[1;33m=\u001b[0m \u001b[0mcsv\u001b[0m\u001b[1;33m.\u001b[0m\u001b[0mreader\u001b[0m\u001b[1;33m(\u001b[0m\u001b[0marchivo\u001b[0m\u001b[1;33m)\u001b[0m\u001b[1;33m\u001b[0m\u001b[1;33m\u001b[0m\u001b[0m\n\u001b[0;32m      4\u001b[0m     \u001b[0mprint\u001b[0m\u001b[1;33m(\u001b[0m\u001b[0mdata\u001b[0m\u001b[1;33m)\u001b[0m\u001b[1;33m\u001b[0m\u001b[1;33m\u001b[0m\u001b[0m\n\u001b[1;32m----> 5\u001b[1;33m \u001b[1;32mfor\u001b[0m \u001b[0mrow\u001b[0m \u001b[1;32min\u001b[0m \u001b[0mdata\u001b[0m\u001b[1;33m:\u001b[0m\u001b[1;33m\u001b[0m\u001b[1;33m\u001b[0m\u001b[0m\n\u001b[0m\u001b[0;32m      6\u001b[0m     \u001b[0mprint\u001b[0m\u001b[1;33m(\u001b[0m\u001b[0mrow\u001b[0m\u001b[1;33m)\u001b[0m\u001b[1;33m\u001b[0m\u001b[1;33m\u001b[0m\u001b[0m\n",
                        "\u001b[1;31mValueError\u001b[0m: I/O operation on closed file."
                    ]
                }
            ],
            "metadata": {}
        },
        {
            "cell_type": "code",
            "execution_count": 111,
            "source": [
                "import numpy as np\r\n",
                "# raw_data = open(\"boston_house_prices.txt\")\r\n",
                "# data = np.loadtxt(raw_data,delimiter =\",\")\r\n",
                "# print(data)\r\n",
                "#ojo si fuera solo de numeros se puede usar numpy\r\n"
            ],
            "outputs": [],
            "metadata": {}
        },
        {
            "cell_type": "code",
            "execution_count": 157,
            "source": [
                "import pandas as pd\r\n",
                "path = \"boston_house_prices.csv\"\r\n",
                "data =pd.read_csv(path,header = 1)\r\n",
                "print(data.columns)"
            ],
            "outputs": [
                {
                    "output_type": "stream",
                    "name": "stdout",
                    "text": [
                        "Index(['CRIM', 'ZN', 'INDUS', 'CHAS', 'NOX', 'RM', 'AGE', 'DIS', 'RAD', 'TAX',\n",
                        "       'PTRATIO', 'B', 'LSTAT', 'MEDV'],\n",
                        "      dtype='object')\n"
                    ]
                }
            ],
            "metadata": {}
        },
        {
            "cell_type": "code",
            "execution_count": 1,
            "source": [
                "from sklearn.datasets import load_boston\r\n",
                "print(load_boston().keys())\r\n",
                "print(load_boston()['DESCR'])"
            ],
            "outputs": [
                {
                    "output_type": "stream",
                    "name": "stdout",
                    "text": [
                        "dict_keys(['data', 'target', 'feature_names', 'DESCR', 'filename'])\n",
                        ".. _boston_dataset:\n",
                        "\n",
                        "Boston house prices dataset\n",
                        "---------------------------\n",
                        "\n",
                        "**Data Set Characteristics:**  \n",
                        "\n",
                        "    :Number of Instances: 506 \n",
                        "\n",
                        "    :Number of Attributes: 13 numeric/categorical predictive. Median Value (attribute 14) is usually the target.\n",
                        "\n",
                        "    :Attribute Information (in order):\n",
                        "        - CRIM     per capita crime rate by town\n",
                        "        - ZN       proportion of residential land zoned for lots over 25,000 sq.ft.\n",
                        "        - INDUS    proportion of non-retail business acres per town\n",
                        "        - CHAS     Charles River dummy variable (= 1 if tract bounds river; 0 otherwise)\n",
                        "        - NOX      nitric oxides concentration (parts per 10 million)\n",
                        "        - RM       average number of rooms per dwelling\n",
                        "        - AGE      proportion of owner-occupied units built prior to 1940\n",
                        "        - DIS      weighted distances to five Boston employment centres\n",
                        "        - RAD      index of accessibility to radial highways\n",
                        "        - TAX      full-value property-tax rate per $10,000\n",
                        "        - PTRATIO  pupil-teacher ratio by town\n",
                        "        - B        1000(Bk - 0.63)^2 where Bk is the proportion of black people by town\n",
                        "        - LSTAT    % lower status of the population\n",
                        "        - MEDV     Median value of owner-occupied homes in $1000's\n",
                        "\n",
                        "    :Missing Attribute Values: None\n",
                        "\n",
                        "    :Creator: Harrison, D. and Rubinfeld, D.L.\n",
                        "\n",
                        "This is a copy of UCI ML housing dataset.\n",
                        "https://archive.ics.uci.edu/ml/machine-learning-databases/housing/\n",
                        "\n",
                        "\n",
                        "This dataset was taken from the StatLib library which is maintained at Carnegie Mellon University.\n",
                        "\n",
                        "The Boston house-price data of Harrison, D. and Rubinfeld, D.L. 'Hedonic\n",
                        "prices and the demand for clean air', J. Environ. Economics & Management,\n",
                        "vol.5, 81-102, 1978.   Used in Belsley, Kuh & Welsch, 'Regression diagnostics\n",
                        "...', Wiley, 1980.   N.B. Various transformations are used in the table on\n",
                        "pages 244-261 of the latter.\n",
                        "\n",
                        "The Boston house-price data has been used in many machine learning papers that address regression\n",
                        "problems.   \n",
                        "     \n",
                        ".. topic:: References\n",
                        "\n",
                        "   - Belsley, Kuh & Welsch, 'Regression diagnostics: Identifying Influential Data and Sources of Collinearity', Wiley, 1980. 244-261.\n",
                        "   - Quinlan,R. (1993). Combining Instance-Based and Model-Based Learning. In Proceedings on the Tenth International Conference of Machine Learning, 236-243, University of Massachusetts, Amherst. Morgan Kaufmann.\n",
                        "\n"
                    ]
                }
            ],
            "metadata": {}
        },
        {
            "cell_type": "code",
            "execution_count": 192,
            "source": [
                "data = load_boston()[\"data\"]\r\n",
                "target = load_boston()['feature_names']\r\n",
                "baseDatos =pd.DataFrame(data,columns=target)\r\n",
                "print(baseDatos.describe())"
            ],
            "outputs": [
                {
                    "output_type": "stream",
                    "name": "stdout",
                    "text": [
                        "             CRIM          ZN       INDUS  ...     PTRATIO           B       LSTAT\n",
                        "count  506.000000  506.000000  506.000000  ...  506.000000  506.000000  506.000000\n",
                        "mean     3.613524   11.363636   11.136779  ...   18.455534  356.674032   12.653063\n",
                        "std      8.601545   23.322453    6.860353  ...    2.164946   91.294864    7.141062\n",
                        "min      0.006320    0.000000    0.460000  ...   12.600000    0.320000    1.730000\n",
                        "25%      0.082045    0.000000    5.190000  ...   17.400000  375.377500    6.950000\n",
                        "50%      0.256510    0.000000    9.690000  ...   19.050000  391.440000   11.360000\n",
                        "75%      3.677083   12.500000   18.100000  ...   20.200000  396.225000   16.955000\n",
                        "max     88.976200  100.000000   27.740000  ...   22.000000  396.900000   37.970000\n",
                        "\n",
                        "[8 rows x 13 columns]\n"
                    ]
                }
            ],
            "metadata": {}
        },
        {
            "cell_type": "code",
            "execution_count": 4,
            "source": [
                "from sklearn import preprocessing\r\n",
                "preprocessing."
            ],
            "outputs": [
                {
                    "output_type": "execute_result",
                    "data": {
                        "text/plain": [
                            "<module 'sklearn.preprocessing' from 'C:\\\\Users\\\\USER\\\\AppData\\\\Local\\\\Programs\\\\Python\\\\Python39\\\\lib\\\\site-packages\\\\sklearn\\\\preprocessing\\\\__init__.py'>"
                        ]
                    },
                    "metadata": {},
                    "execution_count": 4
                }
            ],
            "metadata": {}
        }
    ],
    "metadata": {
        "orig_nbformat": 4,
        "language_info": {
            "name": "python",
            "version": "3.9.5",
            "mimetype": "text/x-python",
            "codemirror_mode": {
                "name": "ipython",
                "version": 3
            },
            "pygments_lexer": "ipython3",
            "nbconvert_exporter": "python",
            "file_extension": ".py"
        },
        "kernelspec": {
            "name": "python3",
            "display_name": "Python 3.9.5 64-bit"
        },
        "interpreter": {
            "hash": "b57cf49ba40cffb9f573ffff2e7abee1c00c6dadfcb1e268543de4b96bfe2901"
        }
    },
    "nbformat": 4,
    "nbformat_minor": 2
}