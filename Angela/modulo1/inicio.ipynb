{
 "cells": [
  {
   "cell_type": "code",
   "execution_count": 2,
   "source": [
    "print(\"hello world\")"
   ],
   "outputs": [
    {
     "output_type": "stream",
     "name": "stdout",
     "text": [
      "hello word\n"
     ]
    }
   ],
   "metadata": {}
  },
  {
   "cell_type": "markdown",
   "source": [
    "Definiccón de variables"
   ],
   "metadata": {}
  },
  {
   "cell_type": "code",
   "execution_count": 7,
   "source": [
    "a = 32 #int numeros enteros \r\n",
    "b= float(a) #números decimales\r\n",
    "c= str(b) # string o cadena de caracter \r\n",
    "i = complex(3.0 ,2)\r\n",
    "\r\n",
    "print(a,b,c,i)\r\n",
    "print(b+a)"
   ],
   "outputs": [
    {
     "output_type": "stream",
     "name": "stdout",
     "text": [
      "32 32.0 32.0 (3+2j)\n",
      "64.0\n"
     ]
    }
   ],
   "metadata": {}
  },
  {
   "cell_type": "markdown",
   "source": [
    "Las principales diferencias entre las listas y las tuplas son: Las listas están encerradas entre corchetes ([]) y sus elementos y tamaño se pueden cambiar, mientras que las tuplas se encierran entre paréntesis (()) y no se pueden actualizar. Las tuplas se pueden considerar como listas de solo lectura."
   ],
   "metadata": {}
  },
  {
   "cell_type": "code",
   "execution_count": 61,
   "source": [
    "h = (1,3,5,\"5\") #tupla\r\n",
    "k = [2,5,\"h\"]#lista\r\n",
    "#metodos listas\r\n",
    "h = [2,5,2,3] #lista\r\n",
    "#puede sumar 2 listas asi h+k\r\n",
    "print(h[:3]) #solicitar fracción de la lista"
   ],
   "outputs": [
    {
     "output_type": "stream",
     "name": "stdout",
     "text": [
      "[2, 5, 2, 3, 2, 5, 'h']\n"
     ]
    }
   ],
   "metadata": {}
  },
  {
   "cell_type": "markdown",
   "source": [
    "metodos de las listas o Estructura de datos "
   ],
   "metadata": {}
  },
  {
   "cell_type": "code",
   "execution_count": 40,
   "source": [
    "h = [2,5,2,3]\r\n",
    "h.append(\"hola soy lo ultimo agregado a la lista\")\r\n",
    "print(h)\r\n",
    "m=h.pop() # por defecto retira el ultimo si se desea especificar un indice basta (i)\r\n",
    "#len() sirve para contar lo index de la lista ojo cuenta desde el 1\r\n",
    "h.sort() # ordena la lista\r\n",
    "print(h)"
   ],
   "outputs": [
    {
     "output_type": "stream",
     "name": "stdout",
     "text": [
      "[2, 5, 2, 3, 'hola soy lo ultimo agregado a la lista']\n",
      "[2, 2, 3, 5]\n"
     ]
    }
   ],
   "metadata": {}
  },
  {
   "cell_type": "markdown",
   "source": [
    "diccionarios"
   ],
   "metadata": {}
  },
  {
   "cell_type": "code",
   "execution_count": 48,
   "source": [
    "miDiccionario = {\"nombre\":\"Luis\",\"apellido\":\"Duque\",\"edad\":21} # para definir el dic basta con usar corchetes\r\n",
    "print(miDiccionario[\"apellido\"]) # para usar la llave se usa parentesis\r\n",
    "print(miDiccionario[\"edad\"])\r\n",
    "lista = [[\"nombre\",\"Angela\"],[\"apellido\",\"martinez\"],(\"edad\",25)] # ojo tuplas o listas\r\n",
    "print(lista)\r\n",
    "dict2= dict(lista)#se puede convertir listas en dict\r\n",
    "print(dict2[\"nombre\"])"
   ],
   "outputs": [
    {
     "output_type": "stream",
     "name": "stdout",
     "text": [
      "Duque\n",
      "21\n",
      "[['nombre', 'Angela'], ['apellido', 'martinez'], ('edad', 25)]\n",
      "Angela\n"
     ]
    }
   ],
   "metadata": {}
  },
  {
   "cell_type": "markdown",
   "source": [
    "Vectores y Matrices."
   ],
   "metadata": {}
  },
  {
   "cell_type": "code",
   "execution_count": 5,
   "source": [
    "# del a,b,c,h,k #permite borrar variables\r\n",
    "\r\n",
    "a = [[1,2,3],[2,3,4],[4,5,6]] # una matriz es una lista de listas\r\n",
    "print(a) # en rigor no es una matriz sirve de ejemplo\r\n",
    "a[2]=[1,2]\r\n",
    "print(a)"
   ],
   "outputs": [
    {
     "output_type": "stream",
     "name": "stdout",
     "text": [
      "[[1, 2, 3], [2, 3, 4], [4, 5, 6]]\n",
      "[[1, 2, 3], [2, 3, 4], [1, 2]]\n"
     ]
    }
   ],
   "metadata": {}
  },
  {
   "cell_type": "markdown",
   "source": [
    "definir y usar funciones."
   ],
   "metadata": {}
  },
  {
   "cell_type": "code",
   "execution_count": 59,
   "source": [
    "def miPrimerafuncion():\r\n",
    "    print(\"hola soy una primera función\")\r\n",
    "miPrimerafuncion()    ## tener muy en cuenta el parentesis si no se pone llama es al objeto y no a la ejecución\r\n",
    "def areaTriangulo(a,b):\r\n",
    "    area = a*b/2\r\n",
    "    print(f\"el area del triangulo es: {area}\") \r\n",
    "areaTriangulo(2,5)"
   ],
   "outputs": [
    {
     "output_type": "stream",
     "name": "stdout",
     "text": [
      "hola soy una primera función\n",
      "el area del triangulo es: 5.0\n"
     ]
    }
   ],
   "metadata": {}
  },
  {
   "cell_type": "markdown",
   "source": [
    "Ejercicios: hacer una lista de listas donde relacione el nombre de una materia con la nota (5 ejemplos esta bien) asi [m1,5]\r\n",
    "pero resulta que luego por bonificaciones la nota de la ultima materia cambio . haga lo mismo en la lista\r\n",
    "\r\n",
    "luego conviertalo en un dict,\r\n",
    "\r\n",
    "solicite o revise la nota de algunas de las materias."
   ],
   "metadata": {}
  }
 ],
 "metadata": {
  "orig_nbformat": 4,
  "language_info": {
   "name": "python",
   "version": "3.9.5",
   "mimetype": "text/x-python",
   "codemirror_mode": {
    "name": "ipython",
    "version": 3
   },
   "pygments_lexer": "ipython3",
   "nbconvert_exporter": "python",
   "file_extension": ".py"
  },
  "kernelspec": {
   "name": "python3",
   "display_name": "Python 3.9.5 64-bit"
  },
  "interpreter": {
   "hash": "b57cf49ba40cffb9f573ffff2e7abee1c00c6dadfcb1e268543de4b96bfe2901"
  }
 },
 "nbformat": 4,
 "nbformat_minor": 2
}