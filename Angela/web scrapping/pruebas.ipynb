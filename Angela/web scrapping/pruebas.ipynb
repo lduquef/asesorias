{
 "cells": [
  {
   "cell_type": "code",
   "execution_count": 1,
   "source": [
    "from bs4 import BeautifulSoup\r\n",
    "from selenium import webdriver\r\n",
    "import requests\r\n",
    "import time\r\n",
    "import lxml\r\n",
    "vector3 = []\r\n",
    "vector2=[]\r\n",
    "vector1=[]\r\n",
    "option = webdriver.ChromeOptions()\r\n",
    "# option.add_argument(\"--headless\")\r\n",
    "# driver = webdriver.Chrome(options=option)\r\n",
    "driver = webdriver.Chrome()\r\n",
    "url = \"https://www.elespectador.com/archivo/tecnologia/\"\r\n",
    "driver.get(url)\r\n",
    "time.sleep(1)\r\n",
    "try:\r\n",
    "    # criterio= driver.find_elements_by_css_selector(\"div.false\")\r\n",
    "    # criterio= driver.find_elements_by_xpath(\".//*[contains(@class,'Title')]\")\r\n",
    "    y = 10\r\n",
    "    for timer in range(0,50):\r\n",
    "         driver.execute_script(\"window.scrollTo(0, \"+str(y)+\")\")\r\n",
    "         y += 100  \r\n",
    "         time.sleep(0.3)  \r\n",
    "    criterio= driver.find_elements_by_xpath(\".//*[contains(@class,'Card-Title Title Title')]\")\r\n",
    "    criterio2= driver.find_elements_by_xpath(\".//*[contains(@class,'Card-Hook Hook')]\")\r\n",
    "    criterio3= driver.find_elements_by_xpath(\".//*[contains(@class,'Card-Datetime Datetime')]\")\r\n",
    "    # enlaces = driver.find_elements_by_partial_link_text(url)\r\n",
    "    # soup =BeautifulSoup(criterio,\"html.parser\")\r\n",
    "    # print(criterio)\r\n",
    "    time.sleep(2)\r\n",
    "\r\n",
    "except:\r\n",
    "    driver.quit()\r\n",
    "    driver.close()\r\n",
    "\r\n",
    "for row in criterio:\r\n",
    "    letter = row.text\r\n",
    "    vector1.append(letter)\r\n",
    "\r\n",
    "for row in criterio2:\r\n",
    "    letter = row.text\r\n",
    "    vector2.append(letter)\r\n",
    "for row in criterio3:\r\n",
    "    letter = row.text\r\n",
    "    vector3.append(letter)\r\n",
    "driver.quit()\r\n",
    "    "
   ],
   "outputs": [],
   "metadata": {}
  },
  {
   "cell_type": "code",
   "execution_count": null,
   "source": [
    "\r\n",
    "\r\n",
    "# criterio = contenido.findAll(\"a\")\r\n",
    "# vector=[]\r\n",
    "# for row in criterio:\r\n",
    "#     vector.append(row.text)\r\n",
    "#     print(row.text)\r\n",
    "# print(criterio)"
   ],
   "outputs": [],
   "metadata": {}
  }
 ],
 "metadata": {
  "orig_nbformat": 4,
  "language_info": {
   "name": "python",
   "version": "3.9.5",
   "mimetype": "text/x-python",
   "codemirror_mode": {
    "name": "ipython",
    "version": 3
   },
   "pygments_lexer": "ipython3",
   "nbconvert_exporter": "python",
   "file_extension": ".py"
  },
  "kernelspec": {
   "name": "python3",
   "display_name": "Python 3.9.5 64-bit"
  },
  "interpreter": {
   "hash": "23300995598eec4bcf6bd89cf02d1c3675e8b2616661418dbbf5580aa901878d"
  }
 },
 "nbformat": 4,
 "nbformat_minor": 2
}